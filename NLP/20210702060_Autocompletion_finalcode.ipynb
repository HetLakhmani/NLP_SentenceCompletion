{
 "cells": [
  {
   "cell_type": "code",
   "execution_count": null,
   "id": "1cdb1795",
   "metadata": {},
   "outputs": [],
   "source": []
  },
  {
   "cell_type": "code",
   "execution_count": 46,
   "id": "d1d6f02c",
   "metadata": {},
   "outputs": [
    {
     "name": "stdout",
     "output_type": "stream",
     "text": [
      "Completed sentence: apple a versatile fruit that can be eaten on their\n"
     ]
    }
   ],
   "source": [
    "# Algorithm for autocompletion of sentences:\n",
    "\n",
    "import random\n",
    "from collections import Counter\n",
    " \n",
    "# This function NextWordFrequency calculates the frequency of the (i+1)th word in the whole corpus,\n",
    "# where i is the index of the word.\n",
    " \n",
    "def NextWordFrequency(corpus, sentence):\n",
    "    sen_len = len(sentence.split())\n",
    "    word_list = []\n",
    "\n",
    "    for i in range(len(corpus) - sen_len):\n",
    "        if ' '.join(corpus[i : i + sen_len]).lower() == sentence.lower():\n",
    "            word_list.append(corpus[i + sen_len])\n",
    "\n",
    "    return dict(Counter(word_list))\n",
    "\n",
    " \n",
    "# This function CumDistFn calculate the CDF(Cumulative Distribution Function) of each word in the\n",
    "# Counter dictionary.\n",
    " \n",
    "def CumDistFn(d):\n",
    "    prob_sum, sum_val = 0, sum(d.values())\n",
    "    for x, y in d.items():\n",
    " \n",
    "        # Calculate the PMF(Probability Mass Function) of each word \n",
    "        # by dividing the frequency by total of all frequencies \n",
    "        # then add all the PMFs till ith word \n",
    "        # which is the CDF of the ith word.\n",
    "         \n",
    "        pmf = y / sum_val\n",
    "        prob_sum += pmf\n",
    "        d[x] = prob_sum\n",
    " \n",
    "    # Returning the cdf dictionary\n",
    "     \n",
    "    return d\n",
    " \n",
    "def main(sent, x, n):\n",
    "    all_corpus = []\n",
    "\n",
    "    # Reading multiple text files\n",
    "    files = [\"file1test.txt\"]\n",
    "    for file in files:\n",
    "        with open(file, 'r', encoding=\"utf8\") as f:\n",
    "            all_corpus.extend(f.read().split())\n",
    "\n",
    "    completed_sentence = sent + ' '\n",
    "    current_word = sent\n",
    "\n",
    "    while len(completed_sentence.split()) < n:\n",
    "        func_out = NextWordFrequency(all_corpus, current_word)\n",
    "\n",
    "        if not func_out:\n",
    "            return  # If unable to complete sentence, exit function without printing\n",
    "\n",
    "        cdf_dict = CumDistFn(func_out)\n",
    "        rand = random.uniform(0, 1)\n",
    "\n",
    "        for word, cdf in cdf_dict.items():\n",
    "            if rand <= cdf:\n",
    "                next_word = word\n",
    "                break\n",
    "\n",
    "        completed_sentence += next_word + ' '\n",
    "        current_word = next_word\n",
    "\n",
    "    print(\"Completed sentence:\", completed_sentence.strip())\n",
    "\n",
    "\n",
    "if __name__ == '__main__':\n",
    "    # Reading the text file which has input words.\n",
    "    with open('test_word.txt', 'r', encoding=\"utf8\") as file:\n",
    "        words = file.read().splitlines()\n",
    "    \n",
    "    # Iterate over each word from the text file test_words as input.\n",
    "    # The output will have 10 words, including each input word.\n",
    "    for inp_sent in words:\n",
    "        main(inp_sent, len(inp_sent), 10)\n",
    "\n"
   ]
  },
  {
   "cell_type": "code",
   "execution_count": null,
   "id": "5435b488",
   "metadata": {},
   "outputs": [],
   "source": []
  },
  {
   "cell_type": "code",
   "execution_count": null,
   "id": "6e95176c",
   "metadata": {},
   "outputs": [],
   "source": []
  },
  {
   "cell_type": "code",
   "execution_count": null,
   "id": "374e6928",
   "metadata": {},
   "outputs": [],
   "source": []
  }
 ],
 "metadata": {
  "kernelspec": {
   "display_name": "Python 3 (ipykernel)",
   "language": "python",
   "name": "python3"
  },
  "language_info": {
   "codemirror_mode": {
    "name": "ipython",
    "version": 3
   },
   "file_extension": ".py",
   "mimetype": "text/x-python",
   "name": "python",
   "nbconvert_exporter": "python",
   "pygments_lexer": "ipython3",
   "version": "3.11.5"
  }
 },
 "nbformat": 4,
 "nbformat_minor": 5
}
